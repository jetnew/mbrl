{
 "cells": [
  {
   "cell_type": "code",
   "execution_count": 11,
   "metadata": {},
   "outputs": [],
   "source": [
    "import numpy as np\n",
    "import matplotlib.pyplot as plt\n",
    "from tqdm.notebook import tqdm\n",
    "import cv2\n",
    "import gym\n",
    "import torch\n",
    "from IPython.display import Image\n",
    "from IPython.core.display import Image, display\n",
    "\n",
    "import torchvision\n",
    "from torchvision.utils import save_image\n",
    "from torchvision import datasets, transforms\n",
    "from torch.utils.data import DataLoader\n",
    "\n",
    "import torch\n",
    "import torch.nn as nn\n",
    "import torch.nn.functional as F\n",
    "from torch.autograd import Variable\n",
    "\n",
    "from torch.optim import Adam\n",
    "from torchsummary import summary"
   ]
  },
  {
   "cell_type": "markdown",
   "metadata": {},
   "source": [
    "# CartPole-v1"
   ]
  },
  {
   "cell_type": "code",
   "execution_count": 12,
   "metadata": {},
   "outputs": [
    {
     "data": {
      "application/vnd.jupyter.widget-view+json": {
       "model_id": "5c968b3931444255bfbad564b30b670a",
       "version_major": 2,
       "version_minor": 0
      },
      "text/plain": [
       "HBox(children=(HTML(value=''), FloatProgress(value=0.0), HTML(value='')))"
      ]
     },
     "metadata": {},
     "output_type": "display_data"
    },
    {
     "name": "stdout",
     "output_type": "stream",
     "text": [
      "\n"
     ]
    }
   ],
   "source": [
    "env = gym.make('CartPole-v1')\n",
    "\n",
    "states = []\n",
    "actions = []\n",
    "rewards = []\n",
    "next_states = []\n",
    "for i in tqdm(range(100)):\n",
    "\n",
    "    obs = env.reset()\n",
    "    done = False\n",
    "\n",
    "    while not done:\n",
    "        states.append(obs)\n",
    "        \n",
    "        action = env.action_space.sample()\n",
    "        actions.append(action)\n",
    "        \n",
    "        obs, reward, done, _ = env.step(action)\n",
    "        rewards.append(reward)\n",
    "        next_states.append(obs)\n",
    "        \n",
    "env.close()"
   ]
  },
  {
   "cell_type": "code",
   "execution_count": 13,
   "metadata": {},
   "outputs": [
    {
     "data": {
      "text/plain": [
       "(torch.Size([2318, 4]),\n",
       " torch.Size([2318, 1]),\n",
       " torch.Size([2318, 1]),\n",
       " torch.Size([2318, 4]))"
      ]
     },
     "execution_count": 13,
     "metadata": {},
     "output_type": "execute_result"
    }
   ],
   "source": [
    "s_t = torch.from_numpy(np.array(states).astype(np.float32))\n",
    "# a_t = torch.from_numpy(np.array(actions).astype(np.float32))  # for LunarLander-v0\n",
    "a_t = torch.unsqueeze(torch.from_numpy(np.array(actions).astype(np.float32)), 1)\n",
    "r_t = torch.unsqueeze(torch.from_numpy(np.array(rewards).astype(np.float32)), 1)\n",
    "s_t1 = torch.from_numpy(np.array(next_states).astype(np.float32))\n",
    "\n",
    "s_t.shape, a_t.shape, r_t.shape, s_t1.shape"
   ]
  },
  {
   "cell_type": "markdown",
   "metadata": {},
   "source": [
    "# Models\n",
    "\n",
    "* Forward: $f(s_t,a_t)=s_{t+1}$\n",
    "* Backward: $f(s_{t+1}, a_t)=s_t$\n",
    "* Inverse: $f(s_t,s_{t+1})=a_t$\n",
    "* Reward: $f(s_{t+1})=r_{t+1}$, i.e. $f(s_t)=r_t$"
   ]
  },
  {
   "cell_type": "code",
   "execution_count": 14,
   "metadata": {},
   "outputs": [],
   "source": [
    "class Reward(nn.Module):\n",
    "    \"\"\"Reward model predicts r_t1 from s_t1.\"\"\"\n",
    "    def __init__(self, s_dim):\n",
    "        super(Reward, self).__init__()\n",
    "        self.fc1 = nn.Linear(s_dim, 32)\n",
    "        self.fc2 = nn.Linear(32, 16)\n",
    "        self.fc3 = nn.Linear(16, 1)\n",
    "    def forward(self, s_t1):\n",
    "        x = F.relu(self.fc1(s_t))\n",
    "        x = F.relu(self.fc2(x))\n",
    "        r_hat_t1 = self.fc3(x)\n",
    "        return r_hat_t1"
   ]
  },
  {
   "cell_type": "code",
   "execution_count": 15,
   "metadata": {},
   "outputs": [],
   "source": [
    "class Forward(nn.Module):\n",
    "    \"\"\"Forward model predicts s_{t+1} from (s_t, a_t).\"\"\"\n",
    "    def __init__(self, s_dim, a_dim):\n",
    "        super(Forward, self).__init__()\n",
    "        self.fc1 = nn.Linear(s_dim + a_dim, 32)\n",
    "        self.fc2 = nn.Linear(32, 16)\n",
    "        self.fc3 = nn.Linear(16, s_dim)\n",
    "    def forward(self, s_t, a_t):\n",
    "        x = torch.cat((s_t, a_t), dim=1)\n",
    "        x = F.relu(self.fc1(x))\n",
    "        x = F.relu(self.fc2(x))\n",
    "        s_hat_t1 = self.fc3(x)\n",
    "        return s_hat_t1"
   ]
  },
  {
   "cell_type": "code",
   "execution_count": 16,
   "metadata": {},
   "outputs": [],
   "source": [
    "class Backward(nn.Module):\n",
    "    \"\"\"Backward model predicts s_t from (s_{t+1}, a_t).\"\"\"\n",
    "    def __init__(self, s_dim, a_dim):\n",
    "        super(Backward, self).__init__()\n",
    "        self.fc1 = nn.Linear(s_dim + a_dim, 32)\n",
    "        self.fc2 = nn.Linear(32, 16)\n",
    "        self.fc3 = nn.Linear(16, s_dim)\n",
    "    def forward(self, s_t1, a_t):\n",
    "        x = torch.cat((s_t1, a_t), dim=1)\n",
    "        x = F.relu(self.fc1(x))\n",
    "        x = F.relu(self.fc2(x))\n",
    "        s_hat_t = self.fc3(x)\n",
    "        return s_hat_t"
   ]
  },
  {
   "cell_type": "code",
   "execution_count": 17,
   "metadata": {},
   "outputs": [],
   "source": [
    "class Inverse(nn.Module):\n",
    "    \"\"\"Inverse model predicts a_t from (s_t, s_{t+1}).\"\"\"\n",
    "    def __init__(self, s_dim, a_dim):\n",
    "        super(Inverse, self).__init__()\n",
    "        self.fc1 = nn.Linear(2 * s_dim, 32)\n",
    "        self.fc2 = nn.Linear(32, 16)\n",
    "        self.fc3 = nn.Linear(16, a_dim)\n",
    "    def forward(self, s_t, s_t1):\n",
    "        x = torch.cat((s_t, s_t1), dim=1)\n",
    "        x = F.relu(self.fc1(x))\n",
    "        x = F.relu(self.fc2(x))\n",
    "        a_hat_t = self.fc3(x)\n",
    "        return a_hat_t"
   ]
  },
  {
   "cell_type": "code",
   "execution_count": 18,
   "metadata": {},
   "outputs": [],
   "source": [
    "def f_loss(s_t1, s_hat_t1):\n",
    "    return F.mse_loss(s_hat_t1, s_t1)\n",
    "\n",
    "def b_loss(s_t, s_hat_t):\n",
    "    return F.mse_loss(s_hat_t, s_t)\n",
    "\n",
    "def i_loss(a_t, a_hat_t):\n",
    "    return F.mse_loss(a_hat_t, a_t)\n",
    "\n",
    "def r_loss(r_t, r_hat_t):\n",
    "    return F.mse_loss(r_hat_t, r_t)\n",
    "\n",
    "def fbi_loss(s_t, s_hat_t, a_t, a_hat_t, s_t1, s_hat_t1):\n",
    "    return f_loss(s_t1, s_hat_t1) + b_loss(s_t, s_hat_t) + i_loss(a_t, a_hat_t)"
   ]
  },
  {
   "cell_type": "code",
   "execution_count": 19,
   "metadata": {
    "scrolled": true
   },
   "outputs": [
    {
     "name": "stdout",
     "output_type": "stream",
     "text": [
      "Epoch 0 - F: 0.25, B: 0.25, I: 0.57, Reward: 1.17\n",
      "Epoch 1 - F: 0.25, B: 0.24, I: 0.56, Reward: 1.15\n",
      "Epoch 2 - F: 0.25, B: 0.24, I: 0.55, Reward: 1.14\n",
      "Epoch 3 - F: 0.25, B: 0.24, I: 0.54, Reward: 1.12\n",
      "Epoch 4 - F: 0.24, B: 0.24, I: 0.54, Reward: 1.11\n",
      "Epoch 5 - F: 0.24, B: 0.23, I: 0.53, Reward: 1.09\n",
      "Epoch 6 - F: 0.24, B: 0.23, I: 0.52, Reward: 1.08\n",
      "Epoch 7 - F: 0.24, B: 0.23, I: 0.51, Reward: 1.06\n",
      "Epoch 8 - F: 0.23, B: 0.23, I: 0.51, Reward: 1.05\n",
      "Epoch 9 - F: 0.23, B: 0.23, I: 0.50, Reward: 1.03\n",
      "Epoch 10 - F: 0.23, B: 0.22, I: 0.49, Reward: 1.01\n",
      "Epoch 11 - F: 0.23, B: 0.22, I: 0.49, Reward: 0.99\n",
      "Epoch 12 - F: 0.22, B: 0.22, I: 0.48, Reward: 0.97\n",
      "Epoch 13 - F: 0.22, B: 0.22, I: 0.47, Reward: 0.95\n",
      "Epoch 14 - F: 0.22, B: 0.21, I: 0.46, Reward: 0.93\n",
      "Epoch 15 - F: 0.22, B: 0.21, I: 0.46, Reward: 0.91\n",
      "Epoch 16 - F: 0.21, B: 0.21, I: 0.45, Reward: 0.89\n",
      "Epoch 17 - F: 0.21, B: 0.21, I: 0.44, Reward: 0.87\n",
      "Epoch 18 - F: 0.21, B: 0.20, I: 0.43, Reward: 0.85\n",
      "Epoch 19 - F: 0.21, B: 0.20, I: 0.43, Reward: 0.82\n",
      "Epoch 20 - F: 0.20, B: 0.20, I: 0.42, Reward: 0.80\n",
      "Epoch 21 - F: 0.20, B: 0.20, I: 0.41, Reward: 0.78\n",
      "Epoch 22 - F: 0.20, B: 0.20, I: 0.40, Reward: 0.75\n",
      "Epoch 23 - F: 0.20, B: 0.19, I: 0.40, Reward: 0.73\n",
      "Epoch 24 - F: 0.19, B: 0.19, I: 0.39, Reward: 0.70\n",
      "Epoch 25 - F: 0.19, B: 0.19, I: 0.38, Reward: 0.68\n",
      "Epoch 26 - F: 0.19, B: 0.19, I: 0.37, Reward: 0.66\n",
      "Epoch 27 - F: 0.19, B: 0.18, I: 0.37, Reward: 0.63\n",
      "Epoch 28 - F: 0.18, B: 0.18, I: 0.36, Reward: 0.61\n",
      "Epoch 29 - F: 0.18, B: 0.18, I: 0.35, Reward: 0.58\n",
      "Epoch 30 - F: 0.18, B: 0.18, I: 0.35, Reward: 0.56\n",
      "Epoch 31 - F: 0.18, B: 0.17, I: 0.34, Reward: 0.53\n",
      "Epoch 32 - F: 0.17, B: 0.17, I: 0.34, Reward: 0.51\n",
      "Epoch 33 - F: 0.17, B: 0.17, I: 0.33, Reward: 0.48\n",
      "Epoch 34 - F: 0.17, B: 0.17, I: 0.32, Reward: 0.46\n",
      "Epoch 35 - F: 0.17, B: 0.17, I: 0.32, Reward: 0.43\n",
      "Epoch 36 - F: 0.16, B: 0.16, I: 0.31, Reward: 0.41\n",
      "Epoch 37 - F: 0.16, B: 0.16, I: 0.31, Reward: 0.39\n",
      "Epoch 38 - F: 0.16, B: 0.16, I: 0.30, Reward: 0.36\n",
      "Epoch 39 - F: 0.15, B: 0.16, I: 0.30, Reward: 0.34\n",
      "Epoch 40 - F: 0.15, B: 0.15, I: 0.30, Reward: 0.32\n",
      "Epoch 41 - F: 0.15, B: 0.15, I: 0.29, Reward: 0.30\n",
      "Epoch 42 - F: 0.15, B: 0.15, I: 0.29, Reward: 0.28\n",
      "Epoch 43 - F: 0.14, B: 0.15, I: 0.28, Reward: 0.26\n",
      "Epoch 44 - F: 0.14, B: 0.14, I: 0.28, Reward: 0.24\n",
      "Epoch 45 - F: 0.14, B: 0.14, I: 0.28, Reward: 0.22\n",
      "Epoch 46 - F: 0.14, B: 0.14, I: 0.27, Reward: 0.20\n",
      "Epoch 47 - F: 0.13, B: 0.14, I: 0.27, Reward: 0.19\n",
      "Epoch 48 - F: 0.13, B: 0.13, I: 0.27, Reward: 0.17\n",
      "Epoch 49 - F: 0.13, B: 0.13, I: 0.27, Reward: 0.16\n",
      "Epoch 50 - F: 0.13, B: 0.13, I: 0.26, Reward: 0.15\n",
      "Epoch 51 - F: 0.13, B: 0.12, I: 0.26, Reward: 0.14\n",
      "Epoch 52 - F: 0.12, B: 0.12, I: 0.26, Reward: 0.13\n",
      "Epoch 53 - F: 0.12, B: 0.12, I: 0.25, Reward: 0.12\n",
      "Epoch 54 - F: 0.12, B: 0.12, I: 0.25, Reward: 0.11\n",
      "Epoch 55 - F: 0.12, B: 0.11, I: 0.25, Reward: 0.10\n",
      "Epoch 56 - F: 0.11, B: 0.11, I: 0.25, Reward: 0.10\n",
      "Epoch 57 - F: 0.11, B: 0.11, I: 0.24, Reward: 0.09\n",
      "Epoch 58 - F: 0.11, B: 0.11, I: 0.24, Reward: 0.09\n",
      "Epoch 59 - F: 0.11, B: 0.10, I: 0.24, Reward: 0.08\n",
      "Epoch 60 - F: 0.11, B: 0.10, I: 0.23, Reward: 0.08\n",
      "Epoch 61 - F: 0.11, B: 0.10, I: 0.23, Reward: 0.08\n",
      "Epoch 62 - F: 0.10, B: 0.09, I: 0.23, Reward: 0.07\n",
      "Epoch 63 - F: 0.10, B: 0.09, I: 0.22, Reward: 0.07\n",
      "Epoch 64 - F: 0.10, B: 0.09, I: 0.22, Reward: 0.07\n",
      "Epoch 65 - F: 0.10, B: 0.09, I: 0.22, Reward: 0.07\n",
      "Epoch 66 - F: 0.10, B: 0.08, I: 0.22, Reward: 0.07\n",
      "Epoch 67 - F: 0.10, B: 0.08, I: 0.21, Reward: 0.06\n",
      "Epoch 68 - F: 0.09, B: 0.08, I: 0.21, Reward: 0.06\n",
      "Epoch 69 - F: 0.09, B: 0.08, I: 0.21, Reward: 0.06\n",
      "Epoch 70 - F: 0.09, B: 0.07, I: 0.20, Reward: 0.06\n",
      "Epoch 71 - F: 0.09, B: 0.07, I: 0.20, Reward: 0.06\n",
      "Epoch 72 - F: 0.09, B: 0.07, I: 0.20, Reward: 0.06\n",
      "Epoch 73 - F: 0.09, B: 0.06, I: 0.19, Reward: 0.06\n",
      "Epoch 74 - F: 0.09, B: 0.06, I: 0.19, Reward: 0.05\n",
      "Epoch 75 - F: 0.08, B: 0.06, I: 0.19, Reward: 0.05\n",
      "Epoch 76 - F: 0.08, B: 0.06, I: 0.18, Reward: 0.05\n",
      "Epoch 77 - F: 0.08, B: 0.05, I: 0.18, Reward: 0.05\n",
      "Epoch 78 - F: 0.08, B: 0.05, I: 0.18, Reward: 0.05\n",
      "Epoch 79 - F: 0.08, B: 0.05, I: 0.18, Reward: 0.05\n",
      "Epoch 80 - F: 0.08, B: 0.05, I: 0.17, Reward: 0.04\n",
      "Epoch 81 - F: 0.08, B: 0.05, I: 0.17, Reward: 0.04\n",
      "Epoch 82 - F: 0.07, B: 0.04, I: 0.17, Reward: 0.04\n",
      "Epoch 83 - F: 0.07, B: 0.04, I: 0.16, Reward: 0.04\n",
      "Epoch 84 - F: 0.07, B: 0.04, I: 0.16, Reward: 0.04\n",
      "Epoch 85 - F: 0.07, B: 0.04, I: 0.16, Reward: 0.04\n",
      "Epoch 86 - F: 0.07, B: 0.04, I: 0.15, Reward: 0.04\n",
      "Epoch 87 - F: 0.07, B: 0.03, I: 0.15, Reward: 0.04\n",
      "Epoch 88 - F: 0.07, B: 0.03, I: 0.15, Reward: 0.03\n",
      "Epoch 89 - F: 0.06, B: 0.03, I: 0.14, Reward: 0.03\n",
      "Epoch 90 - F: 0.06, B: 0.03, I: 0.14, Reward: 0.03\n",
      "Epoch 91 - F: 0.06, B: 0.03, I: 0.14, Reward: 0.03\n",
      "Epoch 92 - F: 0.06, B: 0.03, I: 0.13, Reward: 0.03\n",
      "Epoch 93 - F: 0.06, B: 0.03, I: 0.13, Reward: 0.03\n",
      "Epoch 94 - F: 0.06, B: 0.02, I: 0.13, Reward: 0.03\n",
      "Epoch 95 - F: 0.06, B: 0.02, I: 0.12, Reward: 0.03\n",
      "Epoch 96 - F: 0.06, B: 0.02, I: 0.12, Reward: 0.03\n",
      "Epoch 97 - F: 0.06, B: 0.02, I: 0.12, Reward: 0.03\n",
      "Epoch 98 - F: 0.05, B: 0.02, I: 0.11, Reward: 0.02\n",
      "Epoch 99 - F: 0.05, B: 0.02, I: 0.11, Reward: 0.02\n"
     ]
    }
   ],
   "source": [
    "f_f = Forward(s_dim=4, a_dim=1)\n",
    "f_b = Backward(s_dim=4, a_dim=1)\n",
    "f_i = Inverse(s_dim=4, a_dim=1)\n",
    "f_r = Reward(s_dim=4)\n",
    "\n",
    "f_opt = Adam(f_f.parameters())\n",
    "b_opt = Adam(f_b.parameters())\n",
    "i_opt = Adam(f_i.parameters())\n",
    "r_opt = Adam(f_r.parameters())\n",
    "\n",
    "\n",
    "fbi_losses = []\n",
    "for i in range(100):\n",
    "    f_opt.zero_grad()\n",
    "    b_opt.zero_grad()\n",
    "    i_opt.zero_grad()\n",
    "    r_opt.zero_grad()\n",
    "    \n",
    "    s_hat_t1 = f_f(s_t, a_t)\n",
    "    s_hat_t = f_b(s_t1, a_t)\n",
    "    a_hat_t = f_i(s_t, s_t1)\n",
    "    r_hat_t = f_r(s_t1)\n",
    "    \n",
    "    \n",
    "    loss_f = f_loss(s_t1, s_hat_t1)\n",
    "    loss_b = b_loss(s_t, s_hat_t)\n",
    "    loss_i = i_loss(a_t, a_hat_t)\n",
    "    loss_r = r_loss(r_t, r_hat_t)\n",
    "    \n",
    "    loss_f.backward()\n",
    "    loss_b.backward()\n",
    "    loss_i.backward()\n",
    "    loss_r.backward()\n",
    "    \n",
    "    f_opt.step()\n",
    "    b_opt.step()\n",
    "    i_opt.step()\n",
    "    r_opt.step()\n",
    "    \n",
    "    print(f\"Epoch {i} - F: {loss_f:.2f}, B: {loss_b:.2f}, I: {loss_i:.2f}, Reward: {loss_r:.2f}\")\n",
    "    fbi_losses.append([loss_f, loss_b, loss_i, loss_r])"
   ]
  },
  {
   "cell_type": "markdown",
   "metadata": {},
   "source": [
    "# Model-Based Policy Optimization (MBPO)\n",
    "\n",
    "* Based on the Dyna algorithm\n",
    "1. Collect environment trajectories; add to $D_{env}$\n",
    "2. Train model ensemble on environment data $D_{env}$\n",
    "3. Perform k-step model rollouts branched from $D_{env}$; add to $D_{model}$\n",
    "4. Update policy parameters on model data $D_{model}$\n",
    "\n",
    "Source: [BAIR](https://bair.berkeley.edu/blog/2019/12/12/mbpo/)"
   ]
  },
  {
   "cell_type": "code",
   "execution_count": 10,
   "metadata": {},
   "outputs": [],
   "source": [
    "import gym\n",
    "import collections\n",
    "import random\n",
    "\n",
    "import torch\n",
    "import torch.nn as nn\n",
    "import torch.nn.functional as F\n",
    "import torch.optim as optim\n",
    "\n",
    "#Hyperparameters\n",
    "learning_rate = 0.0005\n",
    "gamma         = 0.98\n",
    "buffer_limit  = 50000\n",
    "batch_size    = 32\n",
    "\n",
    "class ReplayBuffer():\n",
    "    def __init__(self):\n",
    "        self.buffer = collections.deque(maxlen=buffer_limit)\n",
    "    \n",
    "    def put(self, transition):\n",
    "        self.buffer.append(transition)\n",
    "    \n",
    "    def sample(self, n):\n",
    "        mini_batch = random.sample(self.buffer, n)\n",
    "        s_lst, a_lst, r_lst, s_prime_lst, done_mask_lst = [], [], [], [], []\n",
    "        \n",
    "        for transition in mini_batch:\n",
    "            s, a, r, s_prime, done_mask = transition\n",
    "            s_lst.append(s)\n",
    "            a_lst.append([a])\n",
    "            r_lst.append([r])\n",
    "            s_prime_lst.append(s_prime)\n",
    "            done_mask_lst.append([done_mask])\n",
    "\n",
    "        return torch.tensor(s_lst, dtype=torch.float), torch.tensor(a_lst), \\\n",
    "               torch.tensor(r_lst), torch.tensor(s_prime_lst, dtype=torch.float), \\\n",
    "               torch.tensor(done_mask_lst)\n",
    "    \n",
    "    def size(self):\n",
    "        return len(self.buffer)\n",
    "\n",
    "class Qnet(nn.Module):\n",
    "    def __init__(self):\n",
    "        super(Qnet, self).__init__()\n",
    "        self.fc1 = nn.Linear(4, 128)\n",
    "        self.fc2 = nn.Linear(128, 128)\n",
    "        self.fc3 = nn.Linear(128, 2)\n",
    "\n",
    "    def forward(self, x):\n",
    "        x = F.relu(self.fc1(x))\n",
    "        x = F.relu(self.fc2(x))\n",
    "        x = self.fc3(x)\n",
    "        return x\n",
    "      \n",
    "    def sample_action(self, obs, epsilon):\n",
    "        out = self.forward(obs)\n",
    "        coin = random.random()\n",
    "        if coin < epsilon:\n",
    "            return random.randint(0,1)\n",
    "        else : \n",
    "            return out.argmax().item()\n",
    "            \n",
    "def train(q, q_target, memory, optimizer):\n",
    "    for i in range(10):\n",
    "        s,a,r,s_prime,done_mask = memory.sample(batch_size)\n",
    "\n",
    "        q_out = q(s)\n",
    "        q_a = q_out.gather(1,a)\n",
    "        max_q_prime = q_target(s_prime).max(1)[0].unsqueeze(1)\n",
    "        target = r + gamma * max_q_prime * done_mask\n",
    "        loss = F.smooth_l1_loss(q_a, target)\n",
    "        \n",
    "        optimizer.zero_grad()\n",
    "        loss.backward()\n",
    "        optimizer.step()"
   ]
  },
  {
   "cell_type": "code",
   "execution_count": null,
   "metadata": {},
   "outputs": [],
   "source": [
    "def f_loss(s_t1, s_hat_t1):\n",
    "    return F.mse_loss(s_hat_t1, s_t1)"
   ]
  },
  {
   "cell_type": "code",
   "execution_count": 66,
   "metadata": {},
   "outputs": [],
   "source": [
    "class Policy(nn.Module):\n",
    "    def __init__(self, s_dim, a_dim):\n",
    "        super(Policy, self).__init__()\n",
    "        self.fc1 = nn.Linear(s_dim, 32)\n",
    "        self.fc2 = nn.Linear(32, 16)\n",
    "        self.fc3 = nn.Linear(16, a_dim)\n",
    "    def forward(self, s_t):\n",
    "        x = F.relu(self.fc1(s_t))\n",
    "        x = F.relu(self.fc2(x))\n",
    "        a_t = F.relu(self.fc3(x))\n",
    "        return a_t"
   ]
  },
  {
   "cell_type": "code",
   "execution_count": null,
   "metadata": {},
   "outputs": [],
   "source": [
    "env = gym.make('CartPole-v0')\n",
    "\n",
    "for n in range(500):\n",
    "    "
   ]
  },
  {
   "cell_type": "code",
   "execution_count": 81,
   "metadata": {},
   "outputs": [],
   "source": [
    "class Dream:\n",
    "    def __init__(self, f_f, f_b=None, f_i=None, f_r=None, s_0=None):\n",
    "        self.f_f = f_f\n",
    "        self.f_b = f_b\n",
    "        self.f_i = f_i\n",
    "        self.f_r = f_r\n",
    "        self.s_t = self.s_0 = s_0\n",
    "    def reset(self):\n",
    "        self.s_t = self.s_0\n",
    "        return self.s_t\n",
    "    def step(self, a_t):\n",
    "        s_hat_t1 = self.f_f(self.s_t, a_t)\n",
    "        r_hat_t = self.f_r(self.s_t)\n",
    "        return s_hat_t1, r_hat_t"
   ]
  },
  {
   "cell_type": "code",
   "execution_count": 83,
   "metadata": {},
   "outputs": [],
   "source": [
    "env = gym.make('LunarLander-v2')\n",
    "s_0 = env.reset()"
   ]
  },
  {
   "cell_type": "code",
   "execution_count": 85,
   "metadata": {},
   "outputs": [],
   "source": [
    "dream = Dream(f_f=f_f, f_b=f_b, f_i=f_i, f_r=f_r, s_0=s_0)"
   ]
  },
  {
   "cell_type": "code",
   "execution_count": 86,
   "metadata": {},
   "outputs": [
    {
     "data": {
      "text/plain": [
       "tensor([[2.],\n",
       "        [3.],\n",
       "        [0.],\n",
       "        ...,\n",
       "        [0.],\n",
       "        [0.],\n",
       "        [3.]])"
      ]
     },
     "execution_count": 86,
     "metadata": {},
     "output_type": "execute_result"
    }
   ],
   "source": [
    "a_t"
   ]
  },
  {
   "cell_type": "code",
   "execution_count": null,
   "metadata": {},
   "outputs": [],
   "source": [
    "dream.step()"
   ]
  }
 ],
 "metadata": {
  "kernelspec": {
   "display_name": "Python (mbrl)",
   "language": "python",
   "name": "mbrl"
  },
  "language_info": {
   "codemirror_mode": {
    "name": "ipython",
    "version": 3
   },
   "file_extension": ".py",
   "mimetype": "text/x-python",
   "name": "python",
   "nbconvert_exporter": "python",
   "pygments_lexer": "ipython3",
   "version": "3.7.9"
  }
 },
 "nbformat": 4,
 "nbformat_minor": 4
}
